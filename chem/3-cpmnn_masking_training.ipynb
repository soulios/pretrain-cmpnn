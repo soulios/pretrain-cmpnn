{
 "cells": [
  {
   "cell_type": "code",
   "execution_count": 1,
   "metadata": {
    "pycharm": {
     "name": "#%%\n"
    }
   },
   "outputs": [],
   "source": [
    "import os\n",
    "import torch\n",
    "import pickle\n",
    "import collections\n",
    "import math\n",
    "import pandas as pd\n",
    "import numpy as np\n",
    "import networkx as nx\n",
    "from rdkit import Chem\n",
    "from rdkit.Chem import Descriptors\n",
    "from rdkit.Chem import AllChem\n",
    "from rdkit import DataStructs\n",
    "from rdkit.Chem.rdMolDescriptors import GetMorganFingerprintAsBitVect\n",
    "from torch.utils import data\n",
    "from torch_geometric.data import Data\n",
    "from torch_geometric.data import InMemoryDataset\n",
    "from torch_geometric.data import Batch\n",
    "from itertools import repeat, product, chain\n",
    "\n",
    "import torch\n",
    "import torch.nn as nn\n",
    "import torch.nn.functional as F\n",
    "import torch.optim as optim\n",
    "\n",
    "from loader import mol_to_graph_data_obj_simple\n",
    "from loader import MoleculeDataset\n",
    "\n",
    "from util import ExtractSubstructureContextPair, MaskAtom\n",
    "from dataloader import DataLoaderSubstructContext, DataLoaderMasking\n",
    "from torch_geometric.loader import DataLoader\n",
    "\n",
    "import torch\n",
    "import argparse\n",
    "\n",
    "from argparse import ArgumentParser, Namespace\n",
    "\n",
    "from chemprop.parsing import parse_train_args, modify_train_args\n",
    "from chemprop.utils import create_logger\n",
    "from chemprop.train import make_predictions\n",
    "\n",
    "from chemprop.models import build_model\n",
    "\n",
    "from chemprop.train.run_training import run_training\n",
    "from chemprop.utils import makedirs\n",
    "from chemprop.parsing import parse_train_args, modify_train_args\n",
    "from chemprop.utils import create_logger\n",
    "from chemprop.parsing import parse_predict_args\n",
    "from chemprop.train import make_predictions\n",
    "\n",
    "\n",
    "from chemprop.data.utils import get_class_sizes, get_data, get_task_names, split_data\n",
    "from chemprop.features import BatchMolGraph, get_atom_fdim, get_bond_fdim, mol2graph\n",
    "\n",
    "from chemprop.nn_utils import compute_gnorm, compute_pnorm, NoamLR\n",
    "\n",
    "device = 'cuda'"
   ]
  },
  {
   "cell_type": "code",
   "execution_count": 8,
   "metadata": {
    "pycharm": {
     "name": "#%%\n"
    }
   },
   "outputs": [],
   "source": [
    "dataset_file = 'd_new_smiles'\n",
    "num_layer = 5\n",
    "csize = 3\n",
    "\n",
    "l1 = num_layer - 1\n",
    "l2 = l1 + csize\n",
    "\n",
    "#dataset = MoleculeDataset(\"data/dataset/\" + dataset_file, dataset=dataset_file ,transform = ExtractSubstructureContextPair(num_layer, l1, l2))\n",
    "dataset = MoleculeDataset(\"data/dataset/\" + dataset_file, dataset=dataset_file, transform = MaskAtom(num_atom_type = 119, num_edge_type = 5, mask_rate = 0.15, mask_edge=0))\n",
    "loader = DataLoader(dataset, batch_size=32, shuffle=True)"
   ]
  },
  {
   "cell_type": "markdown",
   "metadata": {
    "pycharm": {
     "name": "#%% md\n"
    }
   },
   "source": [
    "### Build CMPNN model"
   ]
  },
  {
   "cell_type": "code",
   "execution_count": 9,
   "metadata": {
    "pycharm": {
     "name": "#%%\n"
    }
   },
   "outputs": [
    {
     "name": "stderr",
     "output_type": "stream",
     "text": [
      "  8%|▊         | 614/7248 [00:00<00:01, 6080.02it/s]"
     ]
    },
    {
     "name": "stdout",
     "output_type": "stream",
     "text": [
      "Loading data\n"
     ]
    },
    {
     "name": "stderr",
     "output_type": "stream",
     "text": [
      "100%|██████████| 7248/7248 [00:01<00:00, 6136.59it/s]\n"
     ]
    },
    {
     "name": "stdout",
     "output_type": "stream",
     "text": [
      "Number of tasks = 7\n"
     ]
    }
   ],
   "source": [
    "args = parse_train_args()\n",
    "modify_train_args(args)\n",
    "\n",
    "args.emb_dim = 300\n",
    "\n",
    "args.dataset_type = 'classification'\n",
    "args.metric = 'auc'\n",
    "\n",
    "args.data_path = 'data/S_dataset_modify.csv'\n",
    "\n",
    "debug = print\n",
    "logger = None\n",
    "\n",
    "debug('Loading data')\n",
    "args.task_names = get_task_names(args.data_path)\n",
    "data = get_data(path=args.data_path, args=args, logger=logger)\n",
    "args.num_tasks = data.num_tasks()\n",
    "args.features_size = data.features_size()\n",
    "debug(f'Number of tasks = {args.num_tasks}')\n",
    "\n",
    "model = build_model(args)\n",
    "model.to(device);\n",
    "\n",
    "linear_pred_atoms = torch.nn.Linear(args.emb_dim, 119).to(device)\n",
    "model_list = [model, linear_pred_atoms]"
   ]
  },
  {
   "cell_type": "code",
   "execution_count": 10,
   "metadata": {
    "pycharm": {
     "name": "#%%\n"
    }
   },
   "outputs": [],
   "source": [
    "#set up optimizers\n",
    "args.lr = 0.01\n",
    "args.decay = 0.005\n",
    "optimizer_model = optim.Adam(model.parameters(), lr=args.lr, weight_decay=args.decay)\n",
    "optimizer_linear_pred_atoms = optim.Adam(linear_pred_atoms.parameters(), lr=args.lr, weight_decay=args.decay)\n",
    "\n",
    "optimizer_list = [optimizer_model, optimizer_linear_pred_atoms]\n",
    "\n",
    "criterion = nn.CrossEntropyLoss().to(device)"
   ]
  },
  {
   "cell_type": "code",
   "execution_count": 11,
   "metadata": {
    "pycharm": {
     "name": "#%%\n"
    }
   },
   "outputs": [],
   "source": [
    "model.encoder.to(device)\n",
    "loss_accum = 0\n",
    "acc_node_accum = 0\n",
    "acc_edge_accum = 0\n",
    "\n",
    "def compute_accuracy(pred, target):\n",
    "    return float(torch.sum(torch.max(pred.detach(), dim = 1)[1] == target).cpu().item())/len(pred)\n",
    "\n",
    "for step, batch in enumerate(loader):\n",
    "\n",
    "    model.train()\n",
    "    linear_pred_atoms.train()\n",
    "\n",
    "    #batch_smile = batch.smile_masked\n",
    "    #_, node_rep = model.encoder(batch_smile)\n",
    "\n",
    "    batch_smile_masked = batch.smile_masked\n",
    "    _, node_rep_masked = model.encoder(batch_smile_masked)\n",
    "\n",
    "    pred_node = linear_pred_atoms(node_rep_masked[batch.masked_atom_indices])\n",
    "\n",
    "    loss = criterion(pred_node, batch.mask_node_label[:,0].to(device))\n",
    "\n",
    "    loss.backward()\n",
    "    optimizer_model.step()\n",
    "    optimizer_linear_pred_atoms.step()\n",
    "\n",
    "    acc_node = compute_accuracy(pred_node, batch.mask_node_label[:,0].to(device))\n",
    "    acc_node_accum += acc_node\n",
    "    break"
   ]
  },
  {
   "cell_type": "code",
   "execution_count": 35,
   "metadata": {
    "pycharm": {
     "name": "#%%\n"
    }
   },
   "outputs": [],
   "source": [
    "def train(args, model_list, loader, optimizer_list, device):\n",
    "    model, linear_pred_atoms  = model_list\n",
    "    optimizer_model, optimizer_linear_pred_atoms = optimizer_list\n",
    "\n",
    "    model.train()\n",
    "    linear_pred_atoms.train()\n",
    "\n",
    "    loss_accum = 0\n",
    "    acc_node_accum = 0\n",
    "    acc_edge_accum = 0\n",
    "\n",
    "    for step, batch in enumerate(loader):\n",
    "\n",
    "        _, node_rep_masked = model.encoder(batch_smile_masked)\n",
    "\n",
    "        ## loss for nodes\n",
    "        pred_node = linear_pred_atoms(node_rep_masked[batch.masked_atom_indices])\n",
    "        loss = criterion(pred_node.double(), batch.mask_node_label[:,0].to(device))\n",
    "\n",
    "        acc_node = compute_accuracy(pred_node, batch.mask_node_label[:,0].to(device))\n",
    "        acc_node_accum += acc_node\n",
    "\n",
    "        optimizer_model.zero_grad()\n",
    "        optimizer_linear_pred_atoms.zero_grad()\n",
    "\n",
    "        loss.backward()\n",
    "\n",
    "        optimizer_model.step()\n",
    "        optimizer_linear_pred_atoms.step()\n",
    "\n",
    "        loss_accum += float(loss.cpu().item())\n",
    "        if step == 10:\n",
    "            break\n",
    "\n",
    "    return loss_accum/step, acc_node_accum/step, acc_edge_accum/step"
   ]
  },
  {
   "cell_type": "code",
   "execution_count": 36,
   "metadata": {
    "pycharm": {
     "name": "#%%\n"
    }
   },
   "outputs": [
    {
     "data": {
      "text/plain": [
       "(2.7577266143737464, 0.6562311542103567, 0.0)"
      ]
     },
     "execution_count": 36,
     "metadata": {},
     "output_type": "execute_result"
    }
   ],
   "source": [
    "train(args, model_list, loader, optimizer_list, device)"
   ]
  }
 ],
 "metadata": {
  "kernelspec": {
   "display_name": "Python 3.6.10 ('GVQA')",
   "language": "python",
   "name": "python3"
  },
  "language_info": {
   "codemirror_mode": {
    "name": "ipython",
    "version": 3
   },
   "file_extension": ".py",
   "mimetype": "text/x-python",
   "name": "python",
   "nbconvert_exporter": "python",
   "pygments_lexer": "ipython3",
   "version": "3.6.10"
  },
  "orig_nbformat": 4,
  "vscode": {
   "interpreter": {
    "hash": "02661a34c3c16c5a67f1a990a3a8e1e6dde091cad135f4d415764b2394fb826e"
   }
  }
 },
 "nbformat": 4,
 "nbformat_minor": 2
}